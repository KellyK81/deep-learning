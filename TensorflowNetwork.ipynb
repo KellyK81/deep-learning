{
  "nbformat": 4,
  "nbformat_minor": 0,
  "metadata": {
    "colab": {
      "name": "TensorflowNetwork.ipynb",
      "provenance": [],
      "authorship_tag": "ABX9TyNfOAWz2mRMpCAQd6sAyVXt",
      "include_colab_link": true
    },
    "kernelspec": {
      "name": "python3",
      "display_name": "Python 3"
    },
    "language_info": {
      "name": "python"
    }
  },
  "cells": [
    {
      "cell_type": "markdown",
      "metadata": {
        "id": "view-in-github",
        "colab_type": "text"
      },
      "source": [
        "<a href=\"https://colab.research.google.com/github/KellyK81/deep-learning/blob/main/TensorflowNetwork.ipynb\" target=\"_parent\"><img src=\"https://colab.research.google.com/assets/colab-badge.svg\" alt=\"Open In Colab\"/></a>"
      ]
    },
    {
      "cell_type": "code",
      "metadata": {
        "colab": {
          "base_uri": "https://localhost:8080/"
        },
        "id": "1sYCo7P6_iwK",
        "outputId": "8adf212f-c9f4-46f7-cf44-e21f319866e4"
      },
      "source": [
        "%tensorflow_version 1.x\n",
        "import tensorflow as tf\n",
        "from tensorflow.examples.tutorials.mnist import input_data\n",
        "# from tensorflow import keras\n",
        "# from tensorflow.keras import layers\n",
        "from tensorflow.contrib import layers\n",
        "\n",
        "mnist = input_data.read_data_sets(\"MNIST_data/\", one_hot=True)\n",
        "batchSz=100\n",
        "W = tf.Variable(tf.random_normal([784, 10],stddev=.1))\n",
        "b = tf.Variable(tf.random_normal([10],stddev=.1))\n",
        "\n",
        "img=tf.placeholder(tf.float32, [batchSz,784])\n",
        "ans = tf.placeholder(tf.float32, [batchSz, 10])\n",
        "\n",
        "L1Output=layers.fully_connected(img,784)\n",
        "prbs=layers.fully_connected(L1Output,10,tf.nn.softmax)\n",
        "\n",
        "# prbs = tf.nn.softmax(tf.matmul(img, W) + b)\n",
        "xEnt = tf.reduce_mean(-tf.reduce_sum(ans * tf.log(prbs),\n",
        "reduction_indices=[1]))\n",
        "train = tf.train.GradientDescentOptimizer(0.5).minimize(xEnt)\n",
        "numCorrect= tf.equal(tf.argmax(prbs,1), tf.argmax(ans,1))\n",
        "accuracy = tf.reduce_mean(tf.cast(numCorrect, tf.float32))\n",
        "\n",
        "sess = tf.Session()\n",
        "sess.run(tf.global_variables_initializer())\n",
        "\n",
        "for i in range(1000):\n",
        "    imgs, anss = mnist.train.next_batch(batchSz)\n",
        "    sess.run(train, feed_dict={img: imgs, ans: anss})\n",
        "sumAcc=0\n",
        "\n",
        "for i in range(1000):\n",
        "    imgs, anss= mnist.test.next_batch(batchSz)\n",
        "    sumAcc+=sess.run(accuracy, feed_dict={img: imgs, ans: anss})\n",
        "    if i > 0 and i % 100 == 0:\n",
        "      print (\"index= %r\" % i, \"Test Accuracy: %r\" % (sumAcc/1000))      \n",
        "print (\"Test Accuracy: %r\" % (sumAcc/1000))\n",
        "\n"
      ],
      "execution_count": null,
      "outputs": [
        {
          "output_type": "stream",
          "name": "stdout",
          "text": [
            "TensorFlow 1.x selected.\n",
            "WARNING:tensorflow:From <ipython-input-1-624057799626>:8: read_data_sets (from tensorflow.contrib.learn.python.learn.datasets.mnist) is deprecated and will be removed in a future version.\n",
            "Instructions for updating:\n",
            "Please use alternatives such as official/mnist/dataset.py from tensorflow/models.\n",
            "WARNING:tensorflow:From /tensorflow-1.15.2/python3.7/tensorflow_core/contrib/learn/python/learn/datasets/mnist.py:260: maybe_download (from tensorflow.contrib.learn.python.learn.datasets.base) is deprecated and will be removed in a future version.\n",
            "Instructions for updating:\n",
            "Please write your own downloading logic.\n",
            "WARNING:tensorflow:From /tensorflow-1.15.2/python3.7/tensorflow_core/contrib/learn/python/learn/datasets/base.py:252: _internal_retry.<locals>.wrap.<locals>.wrapped_fn (from tensorflow.contrib.learn.python.learn.datasets.base) is deprecated and will be removed in a future version.\n",
            "Instructions for updating:\n",
            "Please use urllib or similar directly.\n",
            "Successfully downloaded train-images-idx3-ubyte.gz 9912422 bytes.\n",
            "WARNING:tensorflow:From /tensorflow-1.15.2/python3.7/tensorflow_core/contrib/learn/python/learn/datasets/mnist.py:262: extract_images (from tensorflow.contrib.learn.python.learn.datasets.mnist) is deprecated and will be removed in a future version.\n",
            "Instructions for updating:\n",
            "Please use tf.data to implement this functionality.\n",
            "Extracting MNIST_data/train-images-idx3-ubyte.gz\n",
            "Successfully downloaded train-labels-idx1-ubyte.gz 28881 bytes.\n",
            "WARNING:tensorflow:From /tensorflow-1.15.2/python3.7/tensorflow_core/contrib/learn/python/learn/datasets/mnist.py:267: extract_labels (from tensorflow.contrib.learn.python.learn.datasets.mnist) is deprecated and will be removed in a future version.\n",
            "Instructions for updating:\n",
            "Please use tf.data to implement this functionality.\n",
            "Extracting MNIST_data/train-labels-idx1-ubyte.gz\n",
            "WARNING:tensorflow:From /tensorflow-1.15.2/python3.7/tensorflow_core/contrib/learn/python/learn/datasets/mnist.py:110: dense_to_one_hot (from tensorflow.contrib.learn.python.learn.datasets.mnist) is deprecated and will be removed in a future version.\n",
            "Instructions for updating:\n",
            "Please use tf.one_hot on tensors.\n",
            "Successfully downloaded t10k-images-idx3-ubyte.gz 1648877 bytes.\n",
            "Extracting MNIST_data/t10k-images-idx3-ubyte.gz\n",
            "Successfully downloaded t10k-labels-idx1-ubyte.gz 4542 bytes.\n",
            "Extracting MNIST_data/t10k-labels-idx1-ubyte.gz\n",
            "WARNING:tensorflow:From /tensorflow-1.15.2/python3.7/tensorflow_core/contrib/learn/python/learn/datasets/mnist.py:290: DataSet.__init__ (from tensorflow.contrib.learn.python.learn.datasets.mnist) is deprecated and will be removed in a future version.\n",
            "Instructions for updating:\n",
            "Please use alternatives such as official/mnist/dataset.py from tensorflow/models.\n",
            "WARNING:tensorflow:From /tensorflow-1.15.2/python3.7/tensorflow_core/contrib/layers/python/layers/layers.py:1866: Layer.apply (from tensorflow.python.keras.engine.base_layer) is deprecated and will be removed in a future version.\n",
            "Instructions for updating:\n",
            "Please use `layer.__call__` method instead.\n",
            "index= 100 Test Accuracy: 0.09787000101804734\n",
            "index= 200 Test Accuracy: 0.1947500017285347\n",
            "index= 300 Test Accuracy: 0.29162000280618666\n",
            "index= 400 Test Accuracy: 0.3884800035953522\n",
            "index= 500 Test Accuracy: 0.4853900043964386\n",
            "index= 600 Test Accuracy: 0.582270005106926\n",
            "index= 700 Test Accuracy: 0.6791500060558319\n",
            "index= 800 Test Accuracy: 0.7760100066065788\n",
            "index= 900 Test Accuracy: 0.8729000074267388\n",
            "Test Accuracy: 0.9688000082373619\n"
          ]
        }
      ]
    }
  ]
}